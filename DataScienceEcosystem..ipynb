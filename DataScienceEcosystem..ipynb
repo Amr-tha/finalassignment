{
 "cells": [
  {
   "cell_type": "markdown",
   "id": "9467f2a3",
   "metadata": {},
   "source": [
    "# Data Science Tools and Ecosystem"
   ]
  },
  {
   "cell_type": "markdown",
   "id": "2cef81aa",
   "metadata": {},
   "source": [
    "In this notebook, Data Science Tools and Ecosystem are summarized."
   ]
  },
  {
   "cell_type": "markdown",
   "id": "c89f1307",
   "metadata": {},
   "source": [
    "**Objectives:**\n",
    "+ List popular languages for Data Science\n",
    "+ List commonly used libraries by Data Scientists\n",
    "+ List common Data Science tools\n",
    "+ Create code cell to multiply and add numbers\n",
    "+ Create code cell to convert 200 minutes to hours"
   ]
  },
  {
   "cell_type": "markdown",
   "id": "e95aca9f",
   "metadata": {},
   "source": [
    "Some of the popular languages that Data Scientists use are:\n",
    "1. Python\n",
    "2. R\n",
    "3. SQL\n",
    "4. Java\n",
    "5. Scala\n",
    "6. C++\n",
    "7. JavaScript\n",
    "8. Julia\n"
   ]
  },
  {
   "cell_type": "markdown",
   "id": "d93f23b2",
   "metadata": {},
   "source": [
    "Some of the commonly used libraries by Data Scientists include:\n",
    "1. Pandas\n",
    "2. NumPy\n",
    "3. Matplotlib\n",
    "4. Seaborn\n",
    "5. Scikit-learn\n",
    "6. Keras\n",
    "7. TensorFlow\n",
    "8. PyTorch"
   ]
  },
  {
   "cell_type": "markdown",
   "id": "eda2b3d0",
   "metadata": {},
   "source": [
    "|Data Science Tools|\n",
    "| :----------- |\n",
    "|Jupyter Notebook |\n",
    "|Jupyter Lab |\n",
    "|RStudio |\n",
    "|Apache Zepplin |\n",
    "|Spyder |"
   ]
  },
  {
   "cell_type": "markdown",
   "id": "4a8b09c7",
   "metadata": {},
   "source": [
    "### Below are a few examples of evaluating arithmetic experessions in python"
   ]
  },
  {
   "cell_type": "code",
   "execution_count": 3,
   "id": "734fdb67",
   "metadata": {},
   "outputs": [
    {
     "data": {
      "text/plain": [
       "17"
      ]
     },
     "execution_count": 3,
     "metadata": {},
     "output_type": "execute_result"
    }
   ],
   "source": [
    "# This is a simple arithmetic expression to multiply then add integers\n",
    "(3*4)+5"
   ]
  },
  {
   "cell_type": "code",
   "execution_count": 4,
   "id": "1c9859b1",
   "metadata": {},
   "outputs": [
    {
     "name": "stdout",
     "output_type": "stream",
     "text": [
      "3.3333333333333335\n"
     ]
    }
   ],
   "source": [
    "#This will convert 200 minutes to hours by dividing the hours by 60\n",
    "H=200/60\n",
    "print(H)"
   ]
  },
  {
   "cell_type": "markdown",
   "id": "5c076934",
   "metadata": {},
   "source": [
    "## Author\n",
    "Amrutha"
   ]
  },
  {
   "cell_type": "code",
   "execution_count": null,
   "id": "bf98b30c",
   "metadata": {},
   "outputs": [],
   "source": []
  }
 ],
 "metadata": {
  "kernelspec": {
   "display_name": "Python 3 (ipykernel)",
   "language": "python",
   "name": "python3"
  },
  "language_info": {
   "codemirror_mode": {
    "name": "ipython",
    "version": 3
   },
   "file_extension": ".py",
   "mimetype": "text/x-python",
   "name": "python",
   "nbconvert_exporter": "python",
   "pygments_lexer": "ipython3",
   "version": "3.9.13"
  }
 },
 "nbformat": 4,
 "nbformat_minor": 5
}
